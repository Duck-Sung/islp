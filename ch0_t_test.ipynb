{
  "nbformat": 4,
  "nbformat_minor": 0,
  "metadata": {
    "colab": {
      "private_outputs": true,
      "provenance": [],
      "authorship_tag": "ABX9TyNRC/h7ARCqRWamuSR5hPEk",
      "include_colab_link": true
    },
    "kernelspec": {
      "name": "python3",
      "display_name": "Python 3"
    },
    "language_info": {
      "name": "python"
    }
  },
  "cells": [
    {
      "cell_type": "markdown",
      "metadata": {
        "id": "view-in-github",
        "colab_type": "text"
      },
      "source": [
        "<a href=\"https://colab.research.google.com/github/Duck-Sung/islp/blob/main/ch0_t_test.ipynb\" target=\"_parent\"><img src=\"https://colab.research.google.com/assets/colab-badge.svg\" alt=\"Open In Colab\"/></a>"
      ]
    },
    {
      "cell_type": "markdown",
      "source": [
        "#1. T 분포 그래프 표현"
      ],
      "metadata": {
        "id": "BwCBE9Dhl7fe"
      }
    },
    {
      "cell_type": "code",
      "execution_count": null,
      "metadata": {
        "id": "R-xB63MyvQSN"
      },
      "outputs": [],
      "source": [
        "import numpy as np\n",
        "import matplotlib.pyplot as plt\n",
        "import scipy.stats as stats\n",
        "\n",
        "# 자유도와 x 범위 설정\n",
        "degrees_of_freedom = 1000  # 자유도\n",
        "x = np.linspace(-4, 4, 1000)  # x 범위\n",
        "\n",
        "# t 분포의 확률 밀도 함수 계산\n",
        "pdf = stats.t.pdf(x, degrees_of_freedom)\n",
        "\n",
        "# 그래프 그리기\n",
        "plt.figure(figsize=(8, 6))\n",
        "plt.plot(x, pdf, label=f't Distribute (df={degrees_of_freedom})')\n",
        "plt.title(f't Distribute (Degree of Freedom={degrees_of_freedom})')\n",
        "plt.xlabel('t Value')\n",
        "plt.ylabel('probability density')\n",
        "plt.legend()\n",
        "plt.grid(True)\n",
        "plt.show()\n"
      ]
    },
    {
      "cell_type": "markdown",
      "source": [
        "#2. 5명씩 2그룹의 키 값의 T값과 P값 구하기  [독립표본 T검정](https://hsm-edu.tistory.com/1621)"
      ],
      "metadata": {
        "id": "J18cvz_oUySb"
      }
    },
    {
      "cell_type": "code",
      "source": [
        "# 필요한 라이브러리를 불러옵니다.\n",
        "from scipy.stats import ttest_ind\n",
        "\n",
        "# 두 집단의 샘플 데이터입니다. 실제 데이터로 변경해주세요.\n",
        "group1 = [170, 175, 180, 178, 177]\n",
        "group2 = [165, 167, 166, 164, 165]\n",
        "\n",
        "# 독립표본 t-test를 수행합니다. (등분산 가정)\n",
        "t_statistic1, p_value_ttest_ind1 = ttest_ind(group1, group2)\n",
        "\n",
        "# 결과를 출력합니다.\n",
        "print(\"(등분산)T-scipy 값:\", t_statistic1)\n",
        "print(\"(등분산)P-scipy 값:\", p_value_ttest_ind1)\n",
        "\n",
        "# 독립표본 t-test를 수행합니다. (등분산 이분산)\n",
        "t_statistic2, p_value_ttest_ind2 = ttest_ind(group1, group2,equal_var =False)\n",
        "\n",
        "# 결과를 출력합니다.\n",
        "print(\"(이분산)T-scipy 값:\", t_statistic2)\n",
        "print(\"(이분산)P-scipy 값:\", p_value_ttest_ind2)\n"
      ],
      "metadata": {
        "id": "UaYSgb21KhRd"
      },
      "execution_count": null,
      "outputs": []
    },
    {
      "cell_type": "markdown",
      "source": [
        "#3. 두 집단의 히스토그램 분포 그리고 T 검증하기"
      ],
      "metadata": {
        "id": "9n16f72xmY7u"
      }
    },
    {
      "cell_type": "code",
      "source": [
        "# 필요한 라이브러리를 불러옵니다.\n",
        "import numpy as np\n",
        "from scipy.stats import ttest_ind\n",
        "import matplotlib.pyplot as plt\n",
        "\n",
        "# 두 집단의 샘플 데이터를 생성합니다. 여기서는 평균 170, 180의 정규분포에서 샘플링합니다.\n",
        "np.random.seed(0)  # 재현성을 위해 seed를 설정합니다.\n",
        "group1 = np.random.normal(170, 5, 100)\n",
        "group2 = np.random.normal(180, 5, 100)\n",
        "\n",
        "# t-test를 수행합니다.\n",
        "t_statistic, p_value = ttest_ind(group1, group2)\n",
        "\n",
        "# 결과를 출력합니다.\n",
        "print(\"T-Statistic 값:\", t_statistic)\n",
        "print(\"P-Value 값:\", p_value)\n",
        "\n",
        "# t-검정 분포 그래프를 그립니다.\n",
        "plt.figure(figsize=(8, 6))\n",
        "plt.hist(group1, bins=20, alpha=0.5, label='Group 1')\n",
        "plt.hist(group2, bins=20, alpha=0.5, label='Group 2')\n",
        "plt.legend(loc='upper right')\n",
        "plt.title('T-test Distribution')\n",
        "plt.xlabel('Height')\n",
        "plt.ylabel('Frequency')\n",
        "plt.show()\n",
        "\n"
      ],
      "metadata": {
        "id": "VrPb7xhzmNO4"
      },
      "execution_count": null,
      "outputs": []
    },
    {
      "cell_type": "markdown",
      "source": [
        "#4. 샘플 T검정을 위한 T 분포 출력"
      ],
      "metadata": {
        "id": "KwC4fZMsld5-"
      }
    },
    {
      "cell_type": "code",
      "source": [
        "# 필요한 라이브러리를 불러옵니다.\n",
        "import numpy as np\n",
        "from scipy.stats import ttest_ind, t\n",
        "import matplotlib.pyplot as plt\n",
        "\n",
        "# 두 집단의 샘플 데이터를 생성합니다. 여기서는 평균 170, 180의 정규분포에서 샘플링합니다.\n",
        "np.random.seed(0)  # 재현성을 위해 seed를 설정합니다.\n",
        "group1 = np.random.normal(170, 5, 100)\n",
        "group2 = np.random.normal(180, 5, 100)\n",
        "\n",
        "# t-test를 수행합니다.\n",
        "t_statistic, p_value = ttest_ind(group1, group2)\n",
        "\n",
        "# 결과를 출력합니다.\n",
        "print(\"T-Statistic 값:\", t_statistic)\n",
        "print(\"P-Value 값:\", p_value)\n",
        "\n",
        "# 자유도를 계산합니다.\n",
        "df = len(group1) + len(group2) - 2\n",
        "\n",
        "# t 분포를 그립니다.\n",
        "x = np.linspace(-4, 4, 1000)\n",
        "plt.plot(x, t.pdf(x, df), 'k-', label=\"T distribution\")\n",
        "\n",
        "# T 통계량을 표시합니다.\n",
        "plt.axvline(x=t_statistic, color='r', linestyle='--', label=\"T Statistic\")\n",
        "\n",
        "plt.legend()\n",
        "plt.title('T Distribution with T Statistic')\n",
        "plt.xlabel('Value')\n",
        "plt.ylabel('Density')\n",
        "plt.show()\n"
      ],
      "metadata": {
        "id": "M3SIUyb0LoUL"
      },
      "execution_count": null,
      "outputs": []
    }
  ]
}